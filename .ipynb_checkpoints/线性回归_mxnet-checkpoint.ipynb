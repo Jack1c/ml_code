{
 "cells": [
  {
   "cell_type": "code",
   "execution_count": 4,
   "metadata": {
    "collapsed": true
   },
   "outputs": [],
   "source": [
    "%matplotlib inline\n",
    "from IPython import display\n",
    "from matplotlib import pyplot as plt\n",
    "from mxnet import autograd, nd\n",
    "import random"
   ]
  },
  {
   "cell_type": "markdown",
   "metadata": {
    "collapsed": true
   },
   "source": [
    "##  生成数据集"
   ]
  },
  {
   "cell_type": "markdown",
   "metadata": {},
   "source": [
    "+ 训练样本数 1000 \n",
    "+ 特征数 2\n",
    "+ $\\boldsymbol{x} \\in \\mathbb{R}^{1000 \\times 2}$\n",
    "+ 真实权重 $\\blodsymbol w = [2, -3.14]^\\top$ 偏差 $b = 4.2$\n",
    "+ 随机噪音 $\\epsilon$\n",
    "\n",
    "$$\\boldsymbol{y} = \\boldsymbol{X}\\boldsymbol{w} + b + \\epsilon$$\n",
    "\n"
   ]
  },
  {
   "cell_type": "markdown",
   "metadata": {},
   "source": [
    "$\\epsilon$ 均值为0, 标准差为0.001, 服从正态分布"
   ]
  },
  {
   "cell_type": "code",
   "execution_count": 7,
   "metadata": {},
   "outputs": [],
   "source": [
    "num_input = 2\n",
    "num_examples = 1000\n",
    "true_w = [2, -3.14]\n",
    "true_b = 4.2\n",
    "features = nd.random.normal(scale=1, shape = (num_examples, num_input)) \n",
    "\n",
    "labels = true_w[0] * features[:,0] + true_w[1] * features[:,1] + true_b\n",
    "labels += nd.random.normal(scale=0.01, shape=labels.shape)"
   ]
  },
  {
   "cell_type": "code",
   "execution_count": 8,
   "metadata": {},
   "outputs": [
    {
     "data": {
      "text/plain": [
       "(\n",
       " [ 1.46422136 -1.30581355]\n",
       " <NDArray 2 @cpu(0)>, \n",
       " [ 11.22276402]\n",
       " <NDArray 1 @cpu(0)>)"
      ]
     },
     "execution_count": 8,
     "metadata": {},
     "output_type": "execute_result"
    }
   ],
   "source": [
    "features[0], labels[0]"
   ]
  },
  {
   "cell_type": "markdown",
   "metadata": {},
   "source": [
    "生成 第二个特征`features[:,1]` 和 labels 的散点图 "
   ]
  },
  {
   "cell_type": "code",
   "execution_count": 11,
   "metadata": {},
   "outputs": [
    {
     "data": {
      "image/png": "[encoded data removed]",
      "text/plain": [
       "<Figure size 504x360 with 1 Axes>"
      ]
     },
     "metadata": {},
     "output_type": "display_data"
    }
   ],
   "source": [
    "def use_svg_display():\n",
    "    display.set_matplotlib_fromats('svg')\n",
    "\n",
    "def set_figsize(figsize=(3.5, 2.5)):\n",
    "    #设置图的尺寸\n",
    "    plt.rcParams['figure.figsize'] = figsize \n",
    "\n",
    "set_figsize((7,5))\n",
    "\n",
    "plt.scatter(features[:, 1].asnumpy(), labels.asnumpy(), 1);"
   ]
  },
  {
   "cell_type": "markdown",
   "metadata": {},
   "source": [
    "## 读取数据\n",
    "\n",
    "定义一个每次返回`batch_size`个随机样本和标签"
   ]
  },
  {
   "cell_type": "code",
   "execution_count": 12,
   "metadata": {
    "collapsed": true
   },
   "outputs": [],
   "source": [
    "def data_iter(batch_size, features, labels):\n",
    "    num_examples = len(features)\n",
    "    indices = list(range(num_examples))\n",
    "    random.shuffle(indices) \n",
    "    for i in range(0, num_examples, batch_size):\n",
    "        j = nd.array(indices[i:min(i + batch_size, num_examples)])\n",
    "        yield features.take(j), labels.take(j)\n",
    "        "
   ]
  },
  {
   "cell_type": "code",
   "execution_count": 15,
   "metadata": {},
   "outputs": [
    {
     "name": "stdout",
     "output_type": "stream",
     "text": [
      "\n",
      "[[-0.456707   -3.37372923]\n",
      " [ 0.15711442 -1.18586421]\n",
      " [ 0.30097228 -1.34004653]\n",
      " [ 0.94055545 -1.00127375]\n",
      " [-1.33413208 -1.52196252]\n",
      " [-0.12730435 -0.49817553]\n",
      " [-0.13153172 -1.44880581]\n",
      " [ 0.92865741  1.48262739]\n",
      " [ 0.04301035  0.75258631]\n",
      " [ 1.14527035  0.7306208 ]]\n",
      "<NDArray 10x2 @cpu(0)> \n",
      "[ 13.88860798   8.24050999   9.00820065   9.20932388   6.31255627\n",
      "   5.51106215   8.47609901   1.39608204   1.91536498   4.17245722]\n",
      "<NDArray 10 @cpu(0)>\n"
     ]
    }
   ],
   "source": [
    "batch_size = 10 \n",
    "for X, y in data_iter(batch_size, features, labels):\n",
    "    print(X,y)\n",
    "    break"
   ]
  },
  {
   "cell_type": "code",
   "execution_count": null,
   "metadata": {
    "collapsed": true
   },
   "outputs": [],
   "source": []
  },
  {
   "cell_type": "code",
   "execution_count": null,
   "metadata": {
    "collapsed": true
   },
   "outputs": [],
   "source": []
  }
 ],
 "metadata": {
  "kernelspec": {
   "display_name": "Python 3",
   "language": "python",
   "name": "python3"
  },
  "language_info": {
   "codemirror_mode": {
    "name": "ipython",
    "version": 3
   },
   "file_extension": ".py",
   "mimetype": "text/x-python",
   "name": "python",
   "nbconvert_exporter": "python",
   "pygments_lexer": "ipython3",
   "version": "3.6.3"
  }
 },
 "nbformat": 4,
 "nbformat_minor": 2
}
